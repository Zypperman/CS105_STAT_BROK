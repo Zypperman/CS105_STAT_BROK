{
 "cells": [
  {
   "cell_type": "code",
   "execution_count": null,
   "metadata": {},
   "outputs": [],
   "source": [
    "#Brendan's Code\n",
    "for column in dataset_clean_encoded.columns:\n",
    "    if column != 'CH4':\n",
    "        plt.figure(figsize=(8, 6))  # Optional: Adjust figure size\n",
    "        sns.scatterplot(x=dataset_clean_encoded['CH4'], y=dataset_clean_encoded[column])\n",
    "        plt.title(f'Scatter Plot of CH4 vs. {column}')  # Optional: Add a title\n",
    "        plt.xlabel('CH4')  # Optional: Set X-axis label\n",
    "        plt.ylabel(column)  # Optional: Set Y-axis label\n",
    "        plt.show()"
   ]
  },
  {
   "cell_type": "code",
   "execution_count": null,
   "metadata": {},
   "outputs": [],
   "source": [
    "#Brendan's Code\n",
    "for column in dataset_clean_encoded.columns:\n",
    "    if column != 'Temp':\n",
    "        plt.figure(figsize=(8, 6))  # Optional: Adjust figure size\n",
    "        sns.scatterplot(x=dataset_clean_encoded['Temp'], y=dataset_clean_encoded[column])\n",
    "        plt.title(f'Scatter Plot of Temp vs. {column}')  # Optional: Add a title\n",
    "        plt.xlabel('Temp')  # Optional: Set X-axis label\n",
    "        plt.ylabel(column)  # Optional: Set Y-axis label\n",
    "        plt.show()"
   ]
  },
  {
   "cell_type": "code",
   "execution_count": null,
   "metadata": {},
   "outputs": [],
   "source": [
    "#wei bin's code\n",
    "numerical_columns = ['CO2', 'CH4', 'CFC-11', 'CFC-12', 'Temp','Year','Month']\n",
    "\n",
    "correlations = {}\n",
    "\n",
    "for col in numerical_columns:\n",
    "    #draw the scatterplots\n",
    "    plt.figure()\n",
    "    plt.scatter(dataset_clean_encoded[col], dataset_clean_encoded['MEI'], alpha=0.7)\n",
    "    plt.title(f'Scatterplot of MEI vs {col}')\n",
    "    plt.xlabel(col, fontsize=12)\n",
    "    plt.ylabel('MEI', fontsize=12)\n",
    "    plt.grid(True)\n",
    "    plt.show()\n",
    "    \n",
    "    # calculate the correlations\n",
    "    corr = dataset_clean_encoded['MEI'].corr(dataset_clean_encoded[col])\n",
    "    correlations[col] = corr\n",
    "    \n",
    "# Display sorted correlations\n",
    "sorted_correlations = dict(sorted(correlations.items(), key=lambda item: abs(item[1]), reverse=True))\n",
    "\n",
    "print(\"Correlation between MEI and other numerical variables:\")\n",
    "for var, corr in sorted_correlations.items():\n",
    "    print(f\"{var}: {corr:.3f}\")\n",
    "    \n",
    "    \n",
    "# find the variable with highest correlation\n",
    "most_correlated_variable = max(correlations, key=lambda x: abs(correlations[x]))\n",
    "print(f\"\\nThe variable most correlated with MEI is: {most_correlated_variable} with correlation coefficient {correlations[most_correlated_variable]:.3f}\")"
   ]
  },
  {
   "cell_type": "code",
   "execution_count": null,
   "metadata": {},
   "outputs": [],
   "source": [
    "#Brendan's Code\n",
    "for column in dataset_clean_encoded.columns:\n",
    "    if column != 'CFC-12':\n",
    "        plt.figure(figsize=(8, 6))  # Optional: Adjust figure size\n",
    "        sns.scatterplot(x=dataset_clean_encoded['CFC-12'], y=dataset_clean_encoded[column])\n",
    "        plt.title(f'Scatter Plot of CFC-12 vs. {column}')  # Optional: Add a title\n",
    "        plt.xlabel('CFC-12')  # Optional: Set X-axis label\n",
    "        plt.ylabel(column)  # Optional: Set Y-axis label\n",
    "        plt.show()"
   ]
  },
  {
   "cell_type": "code",
   "execution_count": null,
   "metadata": {},
   "outputs": [],
   "source": [
    "#Brendan's Code\n",
    "for column in dataset_clean_encoded.columns:\n",
    "    if column != 'CFC-11':\n",
    "        plt.figure(figsize=(8, 6))  # Optional: Adjust figure size\n",
    "        sns.scatterplot(x=dataset_clean_encoded['CFC-11'], y=dataset_clean_encoded[column])\n",
    "        plt.title(f'Scatter Plot of CFC-11 vs. {column}')  # Optional: Add a title\n",
    "        plt.xlabel('CFC-11')  # Optional: Set X-axis label\n",
    "        plt.ylabel(column)  # Optional: Set Y-axis label\n",
    "        plt.show()"
   ]
  },
  {
   "cell_type": "code",
   "execution_count": null,
   "metadata": {},
   "outputs": [],
   "source": [
    "import seaborn as sns\n",
    "import matplotlib.pyplot as plt\n",
    "\n",
    "for column in dataset.columns:\n",
    "    if column != 'CFC-11':\n",
    "        correlation = dataset['CFC-11'].corr(dataset[column])  # Calculate correlation coefficient\n",
    "        \n",
    "        plt.figure(figsize=(8, 6))  # Optional: Adjust figure size\n",
    "        sns.scatterplot(x=dataset['CFC-11'], y=dataset[column])\n",
    "        \n",
    "        # Update title to include correlation coefficient\n",
    "        plt.title(f'Scatter Plot of CFC-11 vs. {column}\\nCorrelation: {correlation:.2f}')\n",
    "        \n",
    "        plt.xlabel('CFC-11')  # Optional: Set X-axis Label\n",
    "        plt.ylabel(column)  # Optional: Set Y-axis Label\n",
    "        plt.show()"
   ]
  },
  {
   "cell_type": "code",
   "execution_count": null,
   "metadata": {},
   "outputs": [],
   "source": []
  }
 ],
 "metadata": {
  "language_info": {
   "name": "python"
  }
 },
 "nbformat": 4,
 "nbformat_minor": 2
}
